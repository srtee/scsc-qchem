{
 "cells": [
  {
   "cell_type": "code",
   "execution_count": 1,
   "id": "350f448e-caf7-46fe-b5a7-36e92842beb3",
   "metadata": {},
   "outputs": [],
   "source": [
    "from rdkit import Chem\n",
    "from rdkit.Chem import AllChem\n",
    "from helpers import input_smiles\n",
    "from helpers import show_normal_modes\n",
    "from helpers import mol2xyz\n",
    "from ipywidgets import interactive, widgets\n",
    "import py3Dmol"
   ]
  },
  {
   "cell_type": "code",
   "execution_count": 2,
   "id": "6eba3990-f01d-4897-8afd-5e2788575980",
   "metadata": {},
   "outputs": [
    {
     "data": {
      "application/vnd.jupyter.widget-view+json": {
       "model_id": "64f07d4726d847d79a9ab623db93df93",
       "version_major": 2,
       "version_minor": 0
      },
      "text/plain": [
       "interactive(children=(Text(value='ClCCl', continuous_update=False, description='InputSMILES'), Button(descript…"
      ]
     },
     "metadata": {},
     "output_type": "display_data"
    }
   ],
   "source": [
    "insmiles = interactive(input_smiles,\n",
    "                       {'manual': True, 'manual_name': \"Load Molecule\"},\n",
    "                       i=widgets.Text(value='ClCCl',placeholder='Type something',description='Input SMILES:', disabled=False))\n",
    "display(insmiles)"
   ]
  },
  {
   "cell_type": "code",
   "execution_count": 3,
   "id": "ca025215-d132-4166-9502-00aa17f1d914",
   "metadata": {},
   "outputs": [
    {
     "data": {
      "application/3dmoljs_load.v0": "<div id=\"3dmolviewer_16975201427322133\"  style=\"position: relative; width: 640px; height: 480px;\">\n        <p id=\"3dmolwarning_16975201427322133\" style=\"background-color:#ffcccc;color:black\">You appear to be running in JupyterLab (or JavaScript failed to load for some other reason).  You need to install the 3dmol extension: <br>\n        <tt>jupyter labextension install jupyterlab_3dmol</tt></p>\n        </div>\n<script>\n\nvar loadScriptAsync = function(uri){\n  return new Promise((resolve, reject) => {\n    //this is to ignore the existence of requirejs amd\n    var savedexports, savedmodule;\n    if (typeof exports !== 'undefined') savedexports = exports;\n    else exports = {}\n    if (typeof module !== 'undefined') savedmodule = module;\n    else module = {}\n\n    var tag = document.createElement('script');\n    tag.src = uri;\n    tag.async = true;\n    tag.onload = () => {\n        exports = savedexports;\n        module = savedmodule;\n        resolve();\n    };\n  var firstScriptTag = document.getElementsByTagName('script')[0];\n  firstScriptTag.parentNode.insertBefore(tag, firstScriptTag);\n});\n};\n\nif(typeof $3Dmolpromise === 'undefined') {\n$3Dmolpromise = null;\n  $3Dmolpromise = loadScriptAsync('https://cdnjs.cloudflare.com/ajax/libs/3Dmol/2.0.4/3Dmol-min.js');\n}\n\nvar viewer_16975201427322133 = null;\nvar warn = document.getElementById(\"3dmolwarning_16975201427322133\");\nif(warn) {\n    warn.parentNode.removeChild(warn);\n}\n$3Dmolpromise.then(function() {\nviewer_16975201427322133 = $3Dmol.createViewer(document.getElementById(\"3dmolviewer_16975201427322133\"),{backgroundColor:\"white\"});\nviewer_16975201427322133.zoomTo();\n\tviewer_16975201427322133.addModel(\"\\n     RDKit          3D\\n\\n  8  7  0  0  0  0  0  0  0  0999 V2000\\n    1.6713    0.6716   -1.0455 Cl  0  0  0  0  0  0  0  0  0  0  0  0\\n    0.6880   -0.2058    0.1461 C   0  0  0  0  0  0  0  0  0  0  0  0\\n   -0.7796    0.1219   -0.0324 C   0  0  0  0  0  0  0  0  0  0  0  0\\n    0.8664   -1.2760    0.0086 H   0  0  0  0  0  0  0  0  0  0  0  0\\n    1.0313    0.0812    1.1440 H   0  0  0  0  0  0  0  0  0  0  0  0\\n   -1.1312   -0.1633   -1.0294 H   0  0  0  0  0  0  0  0  0  0  0  0\\n   -0.9665    1.1921    0.1045 H   0  0  0  0  0  0  0  0  0  0  0  0\\n   -1.3797   -0.4215    0.7043 H   0  0  0  0  0  0  0  0  0  0  0  0\\n  1  2  1  0\\n  2  3  1  0\\n  2  4  1  0\\n  2  5  1  0\\n  3  6  1  0\\n  3  7  1  0\\n  3  8  1  0\\nM  END\\n\",\"mol\");\n\tviewer_16975201427322133.setStyle({\"sphere\": {\"scale\": 0.3}, \"stick\": {\"radius\": 0.25}});\n\tviewer_16975201427322133.setBackgroundColor(\"0xeeeeee\");\nviewer_16975201427322133.render();\n});\n</script>",
      "text/html": [
       "<div id=\"3dmolviewer_16975201427322133\"  style=\"position: relative; width: 640px; height: 480px;\">\n",
       "        <p id=\"3dmolwarning_16975201427322133\" style=\"background-color:#ffcccc;color:black\">You appear to be running in JupyterLab (or JavaScript failed to load for some other reason).  You need to install the 3dmol extension: <br>\n",
       "        <tt>jupyter labextension install jupyterlab_3dmol</tt></p>\n",
       "        </div>\n",
       "<script>\n",
       "\n",
       "var loadScriptAsync = function(uri){\n",
       "  return new Promise((resolve, reject) => {\n",
       "    //this is to ignore the existence of requirejs amd\n",
       "    var savedexports, savedmodule;\n",
       "    if (typeof exports !== 'undefined') savedexports = exports;\n",
       "    else exports = {}\n",
       "    if (typeof module !== 'undefined') savedmodule = module;\n",
       "    else module = {}\n",
       "\n",
       "    var tag = document.createElement('script');\n",
       "    tag.src = uri;\n",
       "    tag.async = true;\n",
       "    tag.onload = () => {\n",
       "        exports = savedexports;\n",
       "        module = savedmodule;\n",
       "        resolve();\n",
       "    };\n",
       "  var firstScriptTag = document.getElementsByTagName('script')[0];\n",
       "  firstScriptTag.parentNode.insertBefore(tag, firstScriptTag);\n",
       "});\n",
       "};\n",
       "\n",
       "if(typeof $3Dmolpromise === 'undefined') {\n",
       "$3Dmolpromise = null;\n",
       "  $3Dmolpromise = loadScriptAsync('https://cdnjs.cloudflare.com/ajax/libs/3Dmol/2.0.4/3Dmol-min.js');\n",
       "}\n",
       "\n",
       "var viewer_16975201427322133 = null;\n",
       "var warn = document.getElementById(\"3dmolwarning_16975201427322133\");\n",
       "if(warn) {\n",
       "    warn.parentNode.removeChild(warn);\n",
       "}\n",
       "$3Dmolpromise.then(function() {\n",
       "viewer_16975201427322133 = $3Dmol.createViewer(document.getElementById(\"3dmolviewer_16975201427322133\"),{backgroundColor:\"white\"});\n",
       "viewer_16975201427322133.zoomTo();\n",
       "\tviewer_16975201427322133.addModel(\"\\n     RDKit          3D\\n\\n  8  7  0  0  0  0  0  0  0  0999 V2000\\n    1.6713    0.6716   -1.0455 Cl  0  0  0  0  0  0  0  0  0  0  0  0\\n    0.6880   -0.2058    0.1461 C   0  0  0  0  0  0  0  0  0  0  0  0\\n   -0.7796    0.1219   -0.0324 C   0  0  0  0  0  0  0  0  0  0  0  0\\n    0.8664   -1.2760    0.0086 H   0  0  0  0  0  0  0  0  0  0  0  0\\n    1.0313    0.0812    1.1440 H   0  0  0  0  0  0  0  0  0  0  0  0\\n   -1.1312   -0.1633   -1.0294 H   0  0  0  0  0  0  0  0  0  0  0  0\\n   -0.9665    1.1921    0.1045 H   0  0  0  0  0  0  0  0  0  0  0  0\\n   -1.3797   -0.4215    0.7043 H   0  0  0  0  0  0  0  0  0  0  0  0\\n  1  2  1  0\\n  2  3  1  0\\n  2  4  1  0\\n  2  5  1  0\\n  3  6  1  0\\n  3  7  1  0\\n  3  8  1  0\\nM  END\\n\",\"mol\");\n",
       "\tviewer_16975201427322133.setStyle({\"sphere\": {\"scale\": 0.3}, \"stick\": {\"radius\": 0.25}});\n",
       "\tviewer_16975201427322133.setBackgroundColor(\"0xeeeeee\");\n",
       "viewer_16975201427322133.render();\n",
       "});\n",
       "</script>"
      ]
     },
     "metadata": {},
     "output_type": "display_data"
    }
   ],
   "source": [
    "smiles=insmiles.children[0].value\n",
    "mol = insmiles.result\n",
    "AllChem.EmbedMolecule(mol)\n",
    "AllChem.MMFFOptimizeMolecule(mol);\n",
    "v = py3Dmol.view()\n",
    "v.addModel(Chem.MolToMolBlock(mol), 'mol')\n",
    "v.setStyle({'sphere':{'scale':0.30},'stick':{'radius':0.25}});\n",
    "v.setBackgroundColor('0xeeeeee');\n",
    "v.show()"
   ]
  },
  {
   "cell_type": "code",
   "execution_count": 4,
   "id": "24b47856-2a83-49bf-b5a9-177a12bb8ed3",
   "metadata": {},
   "outputs": [
    {
     "name": "stderr",
     "output_type": "stream",
     "text": [
      "\tPrevious geometry is closer to target in internal coordinates, so using that one.\n",
      "\n",
      "\tBest geometry has RMS(Delta(q)) = 8.37e-05\n",
      "\n",
      "\tPrevious geometry is closer to target in internal coordinates, so using that one.\n",
      "\n",
      "\tBest geometry has RMS(Delta(q)) = 2.46e-05\n",
      "\n",
      "\tPrevious geometry is closer to target in internal coordinates, so using that one.\n",
      "\n",
      "\tBest geometry has RMS(Delta(q)) = 5.77e-07\n",
      "\n",
      "\tPrevious geometry is closer to target in internal coordinates, so using that one.\n",
      "\n",
      "\tBest geometry has RMS(Delta(q)) = 1.64e-07\n",
      "\n"
     ]
    },
    {
     "name": "stdout",
     "output_type": "stream",
     "text": [
      "Optimizer: Optimization complete!\n",
      "Warning: used thermodynamics relations inappropriate for low-frequency modes: ['284.7825' '355.0910']\n"
     ]
    }
   ],
   "source": [
    "import psi4\n",
    "psi4.core.clean()\n",
    "psi4.core.clean_options()\n",
    "psi4.core.be_quiet()\n",
    "psi4.set_memory('1000MB')\n",
    "psimol = psi4.geometry(mol2xyz(mol))\n",
    "psi4.energy('scf/cc-pvdz')\n",
    "e, wfn, hist = psi4.optimize('scf/cc-pvdz', molecule=psimol, return_wfn=True, return_history=True)\n",
    "psi4.set_options({\"normal_modes_write\": True, \"writer_file_label\": smiles})\n",
    "e, freq_wfn = psi4.frequencies('scf/cc-pvdz', ref_gradient=wfn.gradient(), return_wfn=True)"
   ]
  },
  {
   "cell_type": "code",
   "execution_count": 5,
   "id": "d621ae39-6d15-48f5-8d1d-cf12661bf7af",
   "metadata": {},
   "outputs": [
    {
     "data": {
      "application/vnd.jupyter.widget-view+json": {
       "model_id": "80e55a991e4a42d18ea7c974d7dc9f99",
       "version_major": 2,
       "version_minor": 0
      },
      "text/plain": [
       "interactive(children=(Dropdown(description='Normal mode:', options=((284.7825380628, 0), (355.090996417, 1), (…"
      ]
     },
     "metadata": {},
     "output_type": "display_data"
    }
   ],
   "source": [
    "import glob\n",
    "fn=glob.glob(smiles+'*.molden_normal_modes')[0]\n",
    "show_normal_modes(filename=fn)"
   ]
  },
  {
   "cell_type": "code",
   "execution_count": null,
   "id": "f07637e1-b6f3-46fb-883b-766f5051dd46",
   "metadata": {},
   "outputs": [],
   "source": []
  }
 ],
 "metadata": {
  "kernelspec": {
   "display_name": "Python 3 (ipykernel)",
   "language": "python",
   "name": "python3"
  },
  "language_info": {
   "codemirror_mode": {
    "name": "ipython",
    "version": 3
   },
   "file_extension": ".py",
   "mimetype": "text/x-python",
   "name": "python",
   "nbconvert_exporter": "python",
   "pygments_lexer": "ipython3",
   "version": "3.10.12"
  }
 },
 "nbformat": 4,
 "nbformat_minor": 5
}
