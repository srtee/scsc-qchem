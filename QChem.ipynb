{
 "cells": [
  {
   "cell_type": "code",
   "execution_count": null,
   "id": "350f448e-caf7-46fe-b5a7-36e92842beb3",
   "metadata": {
    "editable": true,
    "jupyter": {
     "source_hidden": true
    },
    "slideshow": {
     "slide_type": ""
    },
    "tags": []
   },
   "outputs": [],
   "source": [
    "from helpers import Psikit"
   ]
  },
  {
   "cell_type": "code",
   "execution_count": null,
   "id": "6eba3990-f01d-4897-8afd-5e2788575980",
   "metadata": {
    "editable": true,
    "jupyter": {
     "source_hidden": true
    },
    "scrolled": true,
    "slideshow": {
     "slide_type": ""
    },
    "tags": []
   },
   "outputs": [],
   "source": [
    "pk = Psikit();\n",
    "pk.widget_input_smiles()"
   ]
  },
  {
   "cell_type": "code",
   "execution_count": null,
   "id": "ca025215-d132-4166-9502-00aa17f1d914",
   "metadata": {
    "editable": true,
    "jupyter": {
     "source_hidden": true
    },
    "slideshow": {
     "slide_type": ""
    },
    "tags": []
   },
   "outputs": [],
   "source": [
    "pk.widget_initial_view()"
   ]
  },
  {
   "cell_type": "code",
   "execution_count": null,
   "id": "2d66922b-77a2-4cd0-bb93-e8e44f800d78",
   "metadata": {
    "editable": true,
    "jupyter": {
     "source_hidden": true
    },
    "slideshow": {
     "slide_type": ""
    },
    "tags": []
   },
   "outputs": [],
   "source": [
    "pk.widget_run_quantum_optimization()"
   ]
  },
  {
   "cell_type": "code",
   "execution_count": null,
   "id": "24b47856-2a83-49bf-b5a9-177a12bb8ed3",
   "metadata": {
    "jupyter": {
     "source_hidden": true
    }
   },
   "outputs": [],
   "source": [
    "pk.widget_find_molecular_vibrations()"
   ]
  },
  {
   "cell_type": "code",
   "execution_count": null,
   "id": "0993d4c2-2062-4fd8-995a-5f927ef4664e",
   "metadata": {
    "jupyter": {
     "source_hidden": true
    }
   },
   "outputs": [],
   "source": [
    "pk.widget_show_normal_modes()"
   ]
  }
 ],
 "metadata": {
  "kernelspec": {
   "display_name": "Python 3 (ipykernel)",
   "language": "python",
   "name": "python3"
  },
  "language_info": {
   "codemirror_mode": {
    "name": "ipython",
    "version": 3
   },
   "file_extension": ".py",
   "mimetype": "text/x-python",
   "name": "python",
   "nbconvert_exporter": "python",
   "pygments_lexer": "ipython3",
   "version": "3.10.12"
  }
 },
 "nbformat": 4,
 "nbformat_minor": 5
}
