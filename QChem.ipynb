{
 "cells": [
  {
   "cell_type": "markdown",
   "id": "4f2a159e-8596-479d-830c-4c4e8a93bda9",
   "metadata": {
    "editable": true,
    "slideshow": {
     "slide_type": ""
    },
    "tags": []
   },
   "source": [
    "# The Quantum Shapes of Molecules #\n",
    "\n",
    "```{note} Preparing The Notebook\n",
    ":class: dropdown\n",
    "\n",
    "1. Look for the \"fast-forwards\" logo (two triangles) on top of this notebook -- it's a button to \"Restart the kernel and run all cells\".\n",
    "2. Click on this \"fast-forwards\" button, and then click the big red \"Restart\" button that pops up.\n",
    "3. Now expand and read the _Introduction_ below -- by the time you are done, the notebook should be ready to go!\n",
    "```\n",
    "\n",
    "```{tip} Welcome to quantum chemistry!\n",
    ":class: dropdown\n",
    "\n",
    "\"Quantum chemistry\" applies quantum physics to the electrons inside a molecule to try and predict how these molecules behave. Quantum chemists write powerful software packages so that computers can do all of these complicated calculations -- and this workbook will guide you in running your very own quantum chemistry calculations! \n",
    "\n",
    "As you progress through this notebook you will see some \"code\" cells that you can ignore.\n",
    "\n",
    "```"
   ]
  },
  {
   "cell_type": "code",
   "execution_count": 1,
   "id": "350f448e-caf7-46fe-b5a7-36e92842beb3",
   "metadata": {
    "editable": false,
    "slideshow": {
     "slide_type": ""
    },
    "tags": [
     "hide-cell"
    ]
   },
   "outputs": [],
   "source": [
    "from helpers import Psikit"
   ]
  },
  {
   "cell_type": "markdown",
   "id": "572ebe52-f7dd-46c3-8ee0-031ad33d26ea",
   "metadata": {
    "editable": true,
    "slideshow": {
     "slide_type": ""
    },
    "tags": []
   },
   "source": [
    "## Step 1 (of 4): Encoding Your Molecule\n",
    "\n",
    "`````{note} Encoding Your Molecule with Molview\n",
    ":class: dropdown\n",
    "````{tab-set}\n",
    "```{tab-item} Starting in Molview\n",
    "1. Click on the [Molview](https://molview.org/) link, and the website should open in a separate tab.\n",
    "2. In Molview, click on the \"Clear all\" button (with a _rubbish bin_ logo) to clear the screen for your own molecule!\n",
    "   * The _white_ area on the left will be cleared out. Don't worry about the _black_ area on the right with a 3D molecular model -- we will generate a new 3D model soon.\n",
    "3. Now try building a chloroform molecule in the white area. If you get stuck, open up \"Detailed Instructions: Building a Chloroform Molecule\".\n",
    "```\n",
    "\n",
    "```{tab-item} Example: Chloroform\n",
    "1. Use \"Clear all\" to start again!\n",
    "2. The _right sidebar_ has a list of elements to choose from. \n",
    "    * Click on \"C\" (carbon) at the top right.\n",
    "    * Now click anywhere in the white area.\n",
    "    * This creates a new carbon atom. When you hover your mouse over the carbon atom, it will be highlighted in green.\n",
    "3. The _left sidebar_ has a list of common chemical bonds. \n",
    "   * Click on the line (single bond) at the top left.\n",
    "   * Now hover on the carbon atom and click _three times_. This creates three single bonds joined to the carbon atom.\n",
    "```\n",
    "\n",
    "```{tab-item} Getting a SMILES code\n",
    "1. In Molview, look for the \"Tools\" dropdown menu. Click on the menu, and then click on the \"Information Card\" in the middle of the menu.\n",
    "2. Look for an entry called \"Canonical SMILES\" with a string of uppercase letters, brackets, and equal-signs.\n",
    "   * That's the SMILES code for your molecule! Copy it and paste it into the \"InputSMILES\" box below for the next step!\n",
    "3. Keep the Molview tab open ... we'll do more stuff in it later!\n",
    "````\n",
    "`````\n",
    "\n",
    "```{tip} What's SMILES Anyway?\n",
    ":class: dropdown\n",
    "\"SMILES\" stands for the **simplified molecular-input line-entry system**. It's useful for recording molecules in a standard computer format. You can try looking it up on [Wikipedia](https://en.wikipedia.org/wiki/Simplified_molecular-input_line-entry_system) and writing it by hand!\n",
    "```"
   ]
  },
  {
   "cell_type": "markdown",
   "id": "89370730-ab95-4233-ba21-da82f6e3ebd2",
   "metadata": {
    "editable": true,
    "slideshow": {
     "slide_type": ""
    },
    "tags": []
   },
   "source": [
    "## Step 2 (of 4): Running Quantum Chemistry Calculations\n",
    "\n",
    "`````{note} Click Buttons, Run Quantum Chemistry\n",
    ":class: dropdown\n",
    "````{tab-set}\n",
    "```{tab-item} Instructions\n",
    "1.\n",
    "2.\n",
    "3.\n",
    "```\n",
    "```{tab-item} LIST OF SMILES\n",
    "chloroform\tClC(Cl)Cl\n",
    "methane         C\n",
    "dichloromethane ClCCl\n",
    "acetonitrile    CC#N\n",
    "dimethylsulfoxide CS(=O)C\n",
    "dimethylformamide CN(C)C=O\n",
    "benzene  C1=CC=CC=C1\n",
    "pyridine C1=CC=NC=C1\n",
    "phenol\t C1=CC=C(C=C1)O\n",
    "aniline  C1=CC=C(C=C1)N\n",
    "```\n",
    "````\n",
    "`````"
   ]
  },
  {
   "cell_type": "code",
   "execution_count": 7,
   "id": "6eba3990-f01d-4897-8afd-5e2788575980",
   "metadata": {
    "editable": true,
    "scrolled": true,
    "slideshow": {
     "slide_type": ""
    },
    "tags": []
   },
   "outputs": [
    {
     "data": {
      "application/vnd.jupyter.widget-view+json": {
       "model_id": "698f80a68a0841b98c910a5d1d5c94a9",
       "version_major": 2,
       "version_minor": 0
      },
      "text/plain": [
       "interactive(children=(Text(value='ClC(Cl)Cl', continuous_update=False, description='InputSMILES'), Button(desc…"
      ]
     },
     "execution_count": 7,
     "metadata": {},
     "output_type": "execute_result"
    }
   ],
   "source": [
    "pk = Psikit();\n",
    "pk.widget_input_smiles()"
   ]
  },
  {
   "cell_type": "code",
   "execution_count": 8,
   "id": "f47eb4a7-db17-4616-95e1-e1443ab157b5",
   "metadata": {},
   "outputs": [
    {
     "data": {
      "application/vnd.jupyter.widget-view+json": {
       "model_id": "25c86c56c15b4130a303671eeee4daa2",
       "version_major": 2,
       "version_minor": 0
      },
      "text/plain": [
       "Button(description='Run Quantum Optimization', style=ButtonStyle())"
      ]
     },
     "metadata": {},
     "output_type": "display_data"
    },
    {
     "data": {
      "application/vnd.jupyter.widget-view+json": {
       "model_id": "0c66a8808a424580835a4503f440726e",
       "version_major": 2,
       "version_minor": 0
      },
      "text/plain": [
       "Output()"
      ]
     },
     "metadata": {},
     "output_type": "display_data"
    },
    {
     "data": {
      "application/vnd.jupyter.widget-view+json": {
       "model_id": "3c5563976a5a4c6eb68001a6c0cc7e27",
       "version_major": 2,
       "version_minor": 0
      },
      "text/plain": [
       "Button(description='Find Molecular Vibrations', style=ButtonStyle())"
      ]
     },
     "metadata": {},
     "output_type": "display_data"
    },
    {
     "data": {
      "application/vnd.jupyter.widget-view+json": {
       "model_id": "a972ccb2ebb44cc6b9bf31b574be1732",
       "version_major": 2,
       "version_minor": 0
      },
      "text/plain": [
       "Output()"
      ]
     },
     "metadata": {},
     "output_type": "display_data"
    }
   ],
   "source": [
    "pk.widget_run_quantum_optimization()\n",
    "pk.widget_find_molecular_vibrations()"
   ]
  },
  {
   "cell_type": "code",
   "execution_count": 3,
   "id": "ca025215-d132-4166-9502-00aa17f1d914",
   "metadata": {
    "editable": true,
    "slideshow": {
     "slide_type": ""
    },
    "tags": []
   },
   "outputs": [],
   "source": [
    "# widget for molecular viewing"
   ]
  },
  {
   "cell_type": "code",
   "execution_count": 4,
   "id": "2d66922b-77a2-4cd0-bb93-e8e44f800d78",
   "metadata": {
    "editable": true,
    "slideshow": {
     "slide_type": ""
    },
    "tags": []
   },
   "outputs": [
    {
     "data": {
      "application/vnd.jupyter.widget-view+json": {
       "model_id": "af8070a2e0e24d3f96e22620f4ea8efd",
       "version_major": 2,
       "version_minor": 0
      },
      "text/plain": [
       "Button(description='Show Normal Modes', style=ButtonStyle())"
      ]
     },
     "metadata": {},
     "output_type": "display_data"
    },
    {
     "data": {
      "application/vnd.jupyter.widget-view+json": {
       "model_id": "58f09780fd5e498c87a901e62e0b5cde",
       "version_major": 2,
       "version_minor": 0
      },
      "text/plain": [
       "Output()"
      ]
     },
     "metadata": {},
     "output_type": "display_data"
    }
   ],
   "source": [
    "pk.widget_show_normal_modes()"
   ]
  }
 ],
 "metadata": {
  "kernelspec": {
   "display_name": "Python 3 (ipykernel)",
   "language": "python",
   "name": "python3"
  },
  "language_info": {
   "codemirror_mode": {
    "name": "ipython",
    "version": 3
   },
   "file_extension": ".py",
   "mimetype": "text/x-python",
   "name": "python",
   "nbconvert_exporter": "python",
   "pygments_lexer": "ipython3",
   "version": "3.10.12"
  }
 },
 "nbformat": 4,
 "nbformat_minor": 5
}
